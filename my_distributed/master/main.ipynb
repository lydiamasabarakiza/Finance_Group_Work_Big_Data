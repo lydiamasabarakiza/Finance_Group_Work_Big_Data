{
 "cells": [
  {
   "cell_type": "markdown",
   "metadata": {},
   "source": [
    "# Load the packages"
   ]
  },
  {
   "cell_type": "code",
   "execution_count": 2,
   "metadata": {},
   "outputs": [
    {
     "name": "stdout",
     "output_type": "stream",
     "text": [
      "Requirement already satisfied: yfinance in c:\\users\\lydia\\documents\\group work\\grp_wrk\\lib\\site-packages (0.2.37)\n",
      "Requirement already satisfied: pandas in c:\\users\\lydia\\documents\\group work\\grp_wrk\\lib\\site-packages (2.0.3)\n",
      "Requirement already satisfied: openpyxl in c:\\users\\lydia\\documents\\group work\\grp_wrk\\lib\\site-packages (3.1.2)\n",
      "Requirement already satisfied: schedule in c:\\users\\lydia\\documents\\group work\\grp_wrk\\lib\\site-packages (1.2.1)\n",
      "Requirement already satisfied: requests>=2.31 in c:\\users\\lydia\\documents\\group work\\grp_wrk\\lib\\site-packages (from yfinance) (2.31.0)\n",
      "Requirement already satisfied: pytz>=2022.5 in c:\\users\\lydia\\documents\\group work\\grp_wrk\\lib\\site-packages (from yfinance) (2024.1)\n",
      "Requirement already satisfied: peewee>=3.16.2 in c:\\users\\lydia\\documents\\group work\\grp_wrk\\lib\\site-packages (from yfinance) (3.17.1)\n",
      "Requirement already satisfied: beautifulsoup4>=4.11.1 in c:\\users\\lydia\\documents\\group work\\grp_wrk\\lib\\site-packages (from yfinance) (4.12.3)\n",
      "Requirement already satisfied: frozendict>=2.3.4 in c:\\users\\lydia\\documents\\group work\\grp_wrk\\lib\\site-packages (from yfinance) (2.4.0)\n",
      "Requirement already satisfied: appdirs>=1.4.4 in c:\\users\\lydia\\documents\\group work\\grp_wrk\\lib\\site-packages (from yfinance) (1.4.4)\n",
      "Requirement already satisfied: numpy>=1.16.5 in c:\\users\\lydia\\documents\\group work\\grp_wrk\\lib\\site-packages (from yfinance) (1.24.4)\n",
      "Requirement already satisfied: multitasking>=0.0.7 in c:\\users\\lydia\\documents\\group work\\grp_wrk\\lib\\site-packages (from yfinance) (0.0.11)\n",
      "Requirement already satisfied: html5lib>=1.1 in c:\\users\\lydia\\documents\\group work\\grp_wrk\\lib\\site-packages (from yfinance) (1.1)\n",
      "Requirement already satisfied: lxml>=4.9.1 in c:\\users\\lydia\\documents\\group work\\grp_wrk\\lib\\site-packages (from yfinance) (5.1.0)\n",
      "Requirement already satisfied: tzdata>=2022.1 in c:\\users\\lydia\\documents\\group work\\grp_wrk\\lib\\site-packages (from pandas) (2024.1)\n",
      "Requirement already satisfied: python-dateutil>=2.8.2 in c:\\users\\lydia\\documents\\group work\\grp_wrk\\lib\\site-packages (from pandas) (2.9.0.post0)\n",
      "Requirement already satisfied: soupsieve>1.2 in c:\\users\\lydia\\documents\\group work\\grp_wrk\\lib\\site-packages (from beautifulsoup4>=4.11.1->yfinance) (2.5)\n",
      "Requirement already satisfied: six>=1.9 in c:\\users\\lydia\\documents\\group work\\grp_wrk\\lib\\site-packages (from html5lib>=1.1->yfinance) (1.16.0)\n",
      "Requirement already satisfied: webencodings in c:\\users\\lydia\\documents\\group work\\grp_wrk\\lib\\site-packages (from html5lib>=1.1->yfinance) (0.5.1)\n",
      "Requirement already satisfied: certifi>=2017.4.17 in c:\\users\\lydia\\documents\\group work\\grp_wrk\\lib\\site-packages (from requests>=2.31->yfinance) (2024.2.2)\n",
      "Requirement already satisfied: idna<4,>=2.5 in c:\\users\\lydia\\documents\\group work\\grp_wrk\\lib\\site-packages (from requests>=2.31->yfinance) (3.6)\n",
      "Requirement already satisfied: charset-normalizer<4,>=2 in c:\\users\\lydia\\documents\\group work\\grp_wrk\\lib\\site-packages (from requests>=2.31->yfinance) (3.3.2)\n",
      "Requirement already satisfied: urllib3<3,>=1.21.1 in c:\\users\\lydia\\documents\\group work\\grp_wrk\\lib\\site-packages (from requests>=2.31->yfinance) (2.2.1)\n",
      "Requirement already satisfied: et-xmlfile in c:\\users\\lydia\\documents\\group work\\grp_wrk\\lib\\site-packages (from openpyxl) (1.1.0)\n",
      "Note: you may need to restart the kernel to use updated packages.\n"
     ]
    },
    {
     "name": "stderr",
     "output_type": "stream",
     "text": [
      "WARNING: You are using pip version 21.1.1; however, version 24.0 is available.\n",
      "You should consider upgrading via the 'c:\\Users\\lydia\\Documents\\Group Work\\grp_wrk\\Scripts\\python.exe -m pip install --upgrade pip' command.\n"
     ]
    }
   ],
   "source": [
    "pip install yfinance pandas openpyxl schedule"
   ]
  },
  {
   "cell_type": "code",
   "execution_count": 3,
   "metadata": {},
   "outputs": [],
   "source": [
    "import yfinance as yf\n",
    "import pandas as pd\n",
    "import schedule\n",
    "import time\n",
    "from datetime import datetime"
   ]
  },
  {
   "cell_type": "markdown",
   "metadata": {},
   "source": [
    "## Creating a function to extract infomation\n",
    "\n",
    "the goal companies are \n",
    "\n",
    "- META\n",
    "- Google\n",
    "- Amazon\n",
    "- Tesla\n",
    "- Apple\n",
    "- Blackrock\n",
    "- Boeing\n",
    "- Samsung\n",
    "- Lockead martin\n",
    "- lvmh\n",
    "- Reliance"
   ]
  },
  {
   "cell_type": "code",
   "execution_count": 4,
   "metadata": {},
   "outputs": [],
   "source": [
    "import os\n",
    "\n",
    "def fetch_stock_data():\n",
    "    # List of companies' ticker symbols\n",
    "    companies = ['META', 'GOOGL', 'AMZN', 'TSLA', 'AAPL', 'BLK', 'BA', 'SSNLF', 'LMT', 'MC.PA', 'RELIANCE.NS']\n",
    "\n",
    "    # Initialize an empty DataFrame to store the data\n",
    "    all_data = pd.DataFrame()\n",
    "\n",
    "    # Iterate over each company and fetch data\n",
    "    start = \"2010-01-01\"\n",
    "    end = datetime.today().strftime('%Y-%m-%d')\n",
    "    for company in companies:\n",
    "        data = pd.DataFrame(yf.download(company, start= start, end=end))\n",
    "        data['Company'] = company  # Add a column to identify the company\n",
    "        all_data = pd.concat([all_data, data])  # Concatenate dataframes\n",
    "\n",
    "    # Save the data to Excel\n",
    "    excel_file = 'Group_data.xlsx'\n",
    "    if not os.path.isfile(excel_file):\n",
    "        all_data.to_excel(excel_file, sheet_name='Data', index=True)\n",
    "        print(f\"File '{excel_file}' created.\")\n",
    "    else:\n",
    "        # Append the data to existing Excel file\n",
    "        with pd.ExcelWriter(excel_file, engine='openpyxl', mode='a') as writer:\n",
    "            all_data.to_excel(writer, sheet_name='Data', index=True, if_sheet_exists='replace')\n",
    "        print(\"Data appended to Group_data.xlsx\")"
   ]
  },
  {
   "cell_type": "markdown",
   "metadata": {},
   "source": [
    "## Stream Every Hour"
   ]
  },
  {
   "cell_type": "code",
   "execution_count": 5,
   "metadata": {},
   "outputs": [
    {
     "name": "stderr",
     "output_type": "stream",
     "text": [
      "[*********************100%%**********************]  1 of 1 completed\n",
      "[*********************100%%**********************]  1 of 1 completed\n",
      "[*********************100%%**********************]  1 of 1 completed\n",
      "[*********************100%%**********************]  1 of 1 completed\n",
      "[*********************100%%**********************]  1 of 1 completed\n",
      "[*********************100%%**********************]  1 of 1 completed\n",
      "[*********************100%%**********************]  1 of 1 completed\n",
      "[*********************100%%**********************]  1 of 1 completed\n",
      "[*********************100%%**********************]  1 of 1 completed\n",
      "[*********************100%%**********************]  1 of 1 completed\n",
      "[*********************100%%**********************]  1 of 1 completed\n"
     ]
    },
    {
     "name": "stdout",
     "output_type": "stream",
     "text": [
      "File 'Group_data.xlsx' created.\n"
     ]
    }
   ],
   "source": [
    "fetch_stock_data()"
   ]
  },
  {
   "cell_type": "code",
   "execution_count": 4,
   "metadata": {},
   "outputs": [
    {
     "ename": "KeyboardInterrupt",
     "evalue": "",
     "output_type": "error",
     "traceback": [
      "\u001b[1;31m---------------------------------------------------------------------------\u001b[0m",
      "\u001b[1;31mKeyboardInterrupt\u001b[0m                         Traceback (most recent call last)",
      "Cell \u001b[1;32mIn[4], line 6\u001b[0m\n\u001b[0;32m      4\u001b[0m \u001b[38;5;28;01mwhile\u001b[39;00m \u001b[38;5;28;01mTrue\u001b[39;00m:\n\u001b[0;32m      5\u001b[0m     schedule\u001b[38;5;241m.\u001b[39mrun_pending()\n\u001b[1;32m----> 6\u001b[0m     \u001b[43mtime\u001b[49m\u001b[38;5;241;43m.\u001b[39;49m\u001b[43msleep\u001b[49m\u001b[43m(\u001b[49m\u001b[38;5;241;43m1\u001b[39;49m\u001b[43m)\u001b[49m\n",
      "\u001b[1;31mKeyboardInterrupt\u001b[0m: "
     ]
    }
   ],
   "source": [
    "schedule.every().hour.do(fetch_stock_data)\n",
    "\n",
    "# Run the scheduler\n",
    "while True:\n",
    "    schedule.run_pending()\n",
    "    time.sleep(1)"
   ]
  }
 ],
 "metadata": {
  "kernelspec": {
   "display_name": "grp_wrk",
   "language": "python",
   "name": "python3"
  },
  "language_info": {
   "codemirror_mode": {
    "name": "ipython",
    "version": 3
   },
   "file_extension": ".py",
   "mimetype": "text/x-python",
   "name": "python",
   "nbconvert_exporter": "python",
   "pygments_lexer": "ipython3",
   "version": "3.8.10"
  }
 },
 "nbformat": 4,
 "nbformat_minor": 2
}
